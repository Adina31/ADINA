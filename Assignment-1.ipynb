{
 "cells": [
  {
   "cell_type": "code",
   "execution_count": 1,
   "metadata": {},
   "outputs": [
    {
     "name": "stdout",
     "output_type": "stream",
     "text": [
      "Twinkle, twinkle, little star,How I wonder what you are!Up above the world so high,Like a diamond in the sky. Twinkle, twinkle, little star, How I wonder what you are\n"
     ]
    }
   ],
   "source": [
    "print(\"Twinkle, twinkle, little star,\"          \n",
    "           \"How I wonder what you are!\"\n",
    "                 \"Up above the world so high,\" \n",
    "                 \"Like a diamond in the sky.\"\n",
    "      \" Twinkle, twinkle, little star,\"\n",
    "      \" How I wonder what you are\")"
   ]
  },
  {
   "cell_type": "code",
   "execution_count": 2,
   "metadata": {},
   "outputs": [
    {
     "name": "stdout",
     "output_type": "stream",
     "text": [
      "Python Version 3.7 (32-bit)\n"
     ]
    }
   ],
   "source": [
    "P= \"Python Version 3.7\"\n",
    "b=\"(32-bit)\"\n",
    "Python= P+\" \"+b\n",
    "print(Python)"
   ]
  },
  {
   "cell_type": "code",
   "execution_count": 3,
   "metadata": {},
   "outputs": [
    {
     "name": "stdout",
     "output_type": "stream",
     "text": [
      "12-11-2019  8:39PM\n"
     ]
    }
   ],
   "source": [
    "Date=\"12-11-2019\"\n",
    "Time=\"8:39PM\"\n",
    "Current=Date+\"  \"+Time\n",
    "print(Current)"
   ]
  },
  {
   "cell_type": "code",
   "execution_count": 4,
   "metadata": {},
   "outputs": [
    {
     "name": "stdout",
     "output_type": "stream",
     "text": [
      "Enter Value Of Radius of Circle3\n",
      "28.27431\n"
     ]
    }
   ],
   "source": [
    "r=int(input(\"Enter Value Of Radius of Circle\"))\n",
    "pi=3.14159\n",
    "A=pi*(r**2)\n",
    "print(A)"
   ]
  },
  {
   "cell_type": "code",
   "execution_count": 5,
   "metadata": {},
   "outputs": [
    {
     "name": "stdout",
     "output_type": "stream",
     "text": [
      "Muhammad Yousuf Adina\n"
     ]
    }
   ],
   "source": [
    "First_Name=\"Adina\"\n",
    "Last_Name=\"Muhammad Yousuf\"\n",
    "Full_Name=Last_Name+\" \"+First_Name\n",
    "print(Full_Name)"
   ]
  },
  {
   "cell_type": "code",
   "execution_count": 6,
   "metadata": {},
   "outputs": [
    {
     "name": "stdout",
     "output_type": "stream",
     "text": [
      "Enter 1st Value23\n",
      "Enter 2nd Value44\n",
      "67\n"
     ]
    }
   ],
   "source": [
    "X=int(input(\"Enter 1st Value\"))\n",
    "Y=int(input(\"Enter 2nd Value\"))\n",
    "Z= X+Y\n",
    "print(Z)\n"
   ]
  }
 ],
 "metadata": {
  "kernelspec": {
   "display_name": "Python 3",
   "language": "python",
   "name": "python3"
  },
  "language_info": {
   "codemirror_mode": {
    "name": "ipython",
    "version": 3
   },
   "file_extension": ".py",
   "mimetype": "text/x-python",
   "name": "python",
   "nbconvert_exporter": "python",
   "pygments_lexer": "ipython3",
   "version": "3.7.4"
  }
 },
 "nbformat": 4,
 "nbformat_minor": 2
}
