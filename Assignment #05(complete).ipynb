{
 "cells": [
  {
   "cell_type": "code",
   "execution_count": 2,
   "metadata": {},
   "outputs": [
    {
     "name": "stdout",
     "output_type": "stream",
     "text": [
      "720\n"
     ]
    }
   ],
   "source": [
    "def Factorial_Number(n):\n",
    "    if n == 0:\n",
    "        return 1\n",
    "    else:\n",
    "        return n * Factorial_Number(n-1)\n",
    "Factorial=Factorial_Number(n=6)\n",
    "print(Factorial)\n"
   ]
  },
  {
   "cell_type": "code",
   "execution_count": 3,
   "metadata": {},
   "outputs": [
    {
     "name": "stdout",
     "output_type": "stream",
     "text": [
      "Original String :  My name is Adina and I am a STATISTICIAN\n",
      "No. of Upper cases :  15\n",
      "No. of Lower cases :  17\n"
     ]
    }
   ],
   "source": [
    "def string(S):\n",
    "    UPPER_CASE=0\n",
    "    LOWER_CASE=0\n",
    "    for Word in S:\n",
    "        if Word.isupper():\n",
    "           UPPER_CASE+=1\n",
    "        elif Word.islower():\n",
    "           LOWER_CASE+=1\n",
    "        else:\n",
    "           pass\n",
    "    print (\"Original String : \", S)\n",
    "    print (\"No. of Upper cases : \", UPPER_CASE)\n",
    "    print (\"No. of Lower cases : \", LOWER_CASE)\n",
    "\n",
    "string(\"My name is Adina and I am a STATISTICIAN\")"
   ]
  },
  {
   "cell_type": "code",
   "execution_count": 9,
   "metadata": {},
   "outputs": [
    {
     "name": "stdout",
     "output_type": "stream",
     "text": [
      "[0, 2, 4, 6, 8, 10]\n"
     ]
    }
   ],
   "source": [
    "def Even_num(l):\n",
    "    E= []\n",
    "    for n in l:\n",
    "        if n % 2 == 0:\n",
    "           E.append(n)\n",
    "    return E\n",
    "print(Even_num([0,1, 2, 3, 4, 5, 6, 7, 8, 9,10]))"
   ]
  },
  {
   "cell_type": "code",
   "execution_count": 1,
   "metadata": {},
   "outputs": [
    {
     "name": "stdout",
     "output_type": "stream",
     "text": [
      "Write your worddad\n",
      "Word isa palindrome\n"
     ]
    }
   ],
   "source": [
    "def palindrome(s):\n",
    "    if len(s) < 1:\n",
    "        return True\n",
    "    else:\n",
    "        if s[0] == s[-1]:\n",
    "            return palindrome(s[1:-1])\n",
    "        else:\n",
    "            return False\n",
    "Word=str(input(\"Write your word\"))\n",
    "if(palindrome(Word)==True):\n",
    "    print(\"Word isa palindrome\")\n",
    "else:\n",
    "    print(\"Word is not a palindrome \")"
   ]
  },
  {
   "cell_type": "code",
   "execution_count": 11,
   "metadata": {},
   "outputs": [
    {
     "name": "stdout",
     "output_type": "stream",
     "text": [
      "True\n"
     ]
    }
   ],
   "source": [
    "def P_N(n):\n",
    "    if (n==1):\n",
    "        return False\n",
    "    elif (n==2):\n",
    "        return True;\n",
    "    else:\n",
    "        for x in range(2,n):\n",
    "            if(n % x==0):\n",
    "                return False\n",
    "        return True             \n",
    "print(P_N(11))"
   ]
  },
  {
   "cell_type": "code",
   "execution_count": 24,
   "metadata": {},
   "outputs": [
    {
     "name": "stdout",
     "output_type": "stream",
     "text": [
      "Customer buys fruits, vegetables and all these items from the market\n",
      "meat\n",
      "wheat\n",
      "rice\n",
      "pulses\n",
      "soaps\n",
      "washing_powder\n",
      "tooth_paste\n"
     ]
    }
   ],
   "source": [
    "def Shopping_list(F,V,*items):\n",
    "    print(\"Customer buys\"+\" \"+F+\",\"+\" \"+V+\" \"+\"and all these items from the market\")\n",
    "    for item in items:\n",
    "        print(item)\n",
    "Shopping_list(\"fruits\",\"vegetables\",\"meat\",\"wheat\",\"rice\",\"pulses\",\"soaps\",\"washing_powder\",\"tooth_paste\") \n",
    "        "
   ]
  },
  {
   "cell_type": "code",
   "execution_count": null,
   "metadata": {},
   "outputs": [],
   "source": []
  }
 ],
 "metadata": {
  "kernelspec": {
   "display_name": "Python 3",
   "language": "python",
   "name": "python3"
  },
  "language_info": {
   "codemirror_mode": {
    "name": "ipython",
    "version": 3
   },
   "file_extension": ".py",
   "mimetype": "text/x-python",
   "name": "python",
   "nbconvert_exporter": "python",
   "pygments_lexer": "ipython3",
   "version": "3.7.4"
  }
 },
 "nbformat": 4,
 "nbformat_minor": 2
}
