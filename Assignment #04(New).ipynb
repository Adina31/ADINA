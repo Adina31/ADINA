{
 "cells": [
  {
   "cell_type": "code",
   "execution_count": 4,
   "metadata": {},
   "outputs": [
    {
     "name": "stdout",
     "output_type": "stream",
     "text": [
      "Asad\n",
      "M.Yousuf\n",
      "22\n",
      "Karachi\n",
      "{'First_Name': 'Asad', 'Last_Name': 'M.Yousuf', 'Age': '22', 'City': 'Karachi', 'Secondary': 'Matriculation', 'Higher_Secondary': 'Intermediate', 'Bachelors': 'B.Com'}\n",
      "{'First_Name': 'Asad', 'Last_Name': 'M.Yousuf', 'Age': '22', 'City': 'Karachi', 'Higher_Secondary': 'Intermediate', 'Bachelors': 'B.Com'}\n",
      "{'First_Name': 'Asad', 'Last_Name': 'M.Yousuf', 'Age': '22', 'City': 'Karachi', 'Bachelors': 'B.Com'}\n",
      "{'First_Name': 'Asad', 'Last_Name': 'M.Yousuf', 'Age': '22', 'City': 'Karachi'}\n"
     ]
    }
   ],
   "source": [
    "Person_Info={\n",
    "    \"First_Name\":\"Asad\",\n",
    "    \"Last_Name\":\"M.Yousuf\",\n",
    "    \"Age\":\"22\",\n",
    "    \"City\":\"Karachi\",\n",
    "}\n",
    "print(Person_Info[ \"First_Name\"])\n",
    "print(Person_Info[\"Last_Name\"])\n",
    "print(Person_Info[\"Age\"])\n",
    "print(Person_Info[\"City\"])\n",
    "Person_Info[\"Secondary\"]=\"Matriculation\"\n",
    "Person_Info[\"Higher_Secondary\"]=\"Intermediate\"\n",
    "Person_Info[\"Bachelors\"]= \"B.Com\"\n",
    "print(Person_Info)\n",
    "del Person_Info [\"Secondary\"]\n",
    "print(Person_Info)\n",
    "del Person_Info[\"Higher_Secondary\"]\n",
    "print(Person_Info)\n",
    "del Person_Info[\"Bachelors\"]\n",
    "print(Person_Info)\n"
   ]
  },
  {
   "cell_type": "code",
   "execution_count": 5,
   "metadata": {},
   "outputs": [
    {
     "name": "stdout",
     "output_type": "stream",
     "text": [
      "{'Country': 'Pakistan', 'Population': '14.91_million', 'Fact': 'Known as mini Pakistan'}\n",
      "{'Country': 'Turkey', 'Population': '15.07_million', 'Fact': 'Only city in the world which is both in Europe and Asia geographicaly'}\n",
      "{'Country': 'China', 'Population': '21.54_million', 'Fact': 'The second largest city in China'}\n"
     ]
    }
   ],
   "source": [
    "Cities = {\n",
    " \"Karachi\": {\n",
    " \"Country\":\"Pakistan\",\n",
    " \"Population\": \"14.91_million\",\n",
    " \"Fact\": \"Known as mini Pakistan\",\n",
    " },\n",
    " \"Istanbul\": {\n",
    " \"Country\":\"Turkey\",\n",
    " \"Population\": \"15.07_million\",\n",
    " \"Fact\": \"Only city in the world which is both in Europe and Asia geographicaly\",\n",
    " },\n",
    " \"Beijing\": {\n",
    " \"Country\":\"China\",\n",
    " \"Population\": \"21.54_million\",\n",
    " \"Fact\": \"The second largest city in China\",\n",
    " },\n",
    " }\n",
    "print(Cities[\"Karachi\"])\n",
    "print(Cities[\"Istanbul\"])\n",
    "print(Cities[\"Beijing\"])"
   ]
  },
  {
   "cell_type": "code",
   "execution_count": 1,
   "metadata": {},
   "outputs": [
    {
     "name": "stdout",
     "output_type": "stream",
     "text": [
      "What is your age?25\n",
      "The ticket is $15\n"
     ]
    }
   ],
   "source": [
    "Person_Age=int(input(\"What is your age?\"))\n",
    "if Person_Age<3:\n",
    "    print(\"The ticket is free\")\n",
    "elif Person_Age>=3 and Person_Age<=12:\n",
    "    print(\"The ticket is $10\")\n",
    "else:\n",
    "    print(\"The ticket is $15\")"
   ]
  },
  {
   "cell_type": "code",
   "execution_count": 10,
   "metadata": {},
   "outputs": [
    {
     "name": "stdout",
     "output_type": "stream",
     "text": [
      "One of my favourite book is Namal.\n"
     ]
    }
   ],
   "source": [
    "one_parameter=\"One of my favourite book is\"\n",
    "def Favourite_Book(one_parameter,title):\n",
    "    Message= one_parameter+\" \"+title\n",
    "    print(Message)\n",
    "Favourite_Book(one_parameter,title=\"Namal.\")\n",
    "    "
   ]
  },
  {
   "cell_type": "code",
   "execution_count": 11,
   "metadata": {},
   "outputs": [
    {
     "name": "stdout",
     "output_type": "stream",
     "text": [
      "6\n"
     ]
    }
   ],
   "source": [
    "import random\n",
    "print(random.randint(1,30))"
   ]
  },
  {
   "cell_type": "code",
   "execution_count": 24,
   "metadata": {},
   "outputs": [
    {
     "name": "stdout",
     "output_type": "stream",
     "text": [
      "1:The no. is even\n",
      " Give correct answer in input field \n",
      "1\n",
      "2\n",
      "3\n",
      "62\n",
      "Incorrect guess\n",
      "2:The no lies b/w 4 and 7\n",
      " Give correct answer in input field \n",
      "4\n",
      "5\n",
      "6\n",
      "76\n",
      "Correct guess\n",
      "3:The no. is <7\n",
      " Give correct answer in input field \n",
      "3\n",
      "4\n",
      "5\n",
      "66\n",
      "Correct guess\n"
     ]
    }
   ],
   "source": [
    "Hints=[\n",
    "    {\n",
    "        \"S.no\":1,\n",
    "        \"Hint\":\"The no. is even\",\n",
    "        \"Options\":[\"1\",\"2\",\"3\",\"6\"],\n",
    "        \"Answer\":\"6\",\n",
    "    },\n",
    "    {\n",
    "        \"S.no\":2,\n",
    "        \"Hint\":\"The no lies b/w 4 and 7\",\n",
    "        \"Options\":[\"4\",\"5\",\"6\",\"7\"],\n",
    "        \"Answer\":\"6\",\n",
    "    },\n",
    "    {\n",
    "        \"S.no\":3,\n",
    "        \"Hint\":\"The no. is <7\",\n",
    "        \"Options\":[\"3\",\"4\",\"5\",\"6\"],\n",
    "        \"Answer\":\"6\",\n",
    "    }\n",
    "]\n",
    "for Hint in Hints:\n",
    "    data=str(Hint[\"S.no\"])+\":\"+Hint[\"Hint\"]+\"\\n Give correct answer in input field \\n\"+Hint[\"Options\"][0]+\"\\n\"+Hint[\"Options\"][1]+\"\\n\"+Hint[\"Options\"][2]+\"\\n\"+Hint[\"Options\"][3]\n",
    "    Answer=input(data)\n",
    "    if Answer==Hint[\"Answer\"]:\n",
    "        print(\"Correct guess\")\n",
    "    else:\n",
    "        print(\"Incorrect guess\")\n"
   ]
  },
  {
   "cell_type": "code",
   "execution_count": null,
   "metadata": {},
   "outputs": [],
   "source": []
  }
 ],
 "metadata": {
  "kernelspec": {
   "display_name": "Python 3",
   "language": "python",
   "name": "python3"
  },
  "language_info": {
   "codemirror_mode": {
    "name": "ipython",
    "version": 3
   },
   "file_extension": ".py",
   "mimetype": "text/x-python",
   "name": "python",
   "nbconvert_exporter": "python",
   "pygments_lexer": "ipython3",
   "version": "3.7.4"
  }
 },
 "nbformat": 4,
 "nbformat_minor": 2
}
