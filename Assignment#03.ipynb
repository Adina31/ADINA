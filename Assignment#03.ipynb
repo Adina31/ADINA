{
 "cells": [
  {
   "cell_type": "code",
   "execution_count": 1,
   "metadata": {},
   "outputs": [
    {
     "name": "stdout",
     "output_type": "stream",
     "text": [
      "Enter 1st value 12\n",
      "Enter 2nd value2\n",
      "Enter operator**\n",
      "144 Answer\n"
     ]
    }
   ],
   "source": [
    "Value_1=int(input(\"Enter 1st value \"))\n",
    "Value_2=int(input(\"Enter 2nd value\"))\n",
    "Operator=input(\"Enter operator\")\n",
    "if Operator==\"+\":\n",
    "    Value=Value_1+Value_2\n",
    "    print(Value,\"Answer\")\n",
    "elif Operator==\"-\":\n",
    "    Value=Value_1-Value_2\n",
    "    print(Value,\"Answer\")\n",
    "elif Operator==\"*\":\n",
    "    Value=Value_1*Value_2\n",
    "    print(Value,\"Answer\")\n",
    "elif Operator==\"/\":\n",
    "    Value=Value_1/Value_2\n",
    "    print(Value,\"Answer\")\n",
    "elif Operator==\"**\":\n",
    "    Value=Value_1**Value_2\n",
    "    print(Value,\"Answer\")\n",
    "else:\n",
    "    print(\"Enter Correct Operator\")"
   ]
  },
  {
   "cell_type": "code",
   "execution_count": 4,
   "metadata": {},
   "outputs": [
    {
     "name": "stdout",
     "output_type": "stream",
     "text": [
      "Enter Values345\n",
      "no numeric value\n",
      "no numeric value\n",
      "no numeric value\n",
      "no numeric value\n",
      "no numeric value\n"
     ]
    }
   ],
   "source": [
    "Countries=[\"Pak\",\"UAE\",\"USA\",\"China\",\"Aus\",]\n",
    "Value=input(\"Enter Values\")\n",
    "for A_Countries in Countries:\n",
    "    if Value==A_Countries:\n",
    "        print(\"numeric value\")\n",
    "    else:\n",
    "        print(\"no numeric value\")"
   ]
  },
  {
   "cell_type": "code",
   "execution_count": 5,
   "metadata": {},
   "outputs": [
    {
     "name": "stdout",
     "output_type": "stream",
     "text": [
      "{'First_Name': 'Alaya', 'Last_Name': 'Subhan', 'Age': 'Sixteen', 'Gender': 'Female', 'City': 'Islamabad'}\n",
      "{'First_Name': 'Alaya', 'Last_Name': 'Subhan', 'Age': 'Sixteen', 'Gender': 'Female', 'City': 'Islamabad', 'Language': 'Punjabi'}\n"
     ]
    }
   ],
   "source": [
    "Student={\n",
    "    \n",
    "    \"First_Name\":\"Alaya\",\n",
    "    \"Last_Name\":\"Subhan\",\n",
    "    \"Age\":\"Sixteen\",\n",
    "    \"Gender\":\"Female\",\n",
    "    \"City\":\"Islamabad\"\n",
    "    \n",
    "}\n",
    "print(Student)\n",
    "Student[\"Language\"]=\"Punjabi\"\n",
    "print(Student)\n"
   ]
  },
  {
   "cell_type": "code",
   "execution_count": 28,
   "metadata": {},
   "outputs": [
    {
     "name": "stdout",
     "output_type": "stream",
     "text": [
      "476\n"
     ]
    }
   ],
   "source": [
    "Marks={\"Mathematics\":94, \"Science\":86, \"Computer\":78, \"Urdu\":67,\"English\":66, \"Islamiat\":85}\n",
    "print(sum(Marks.values()))\n",
    "    \n"
   ]
  },
  {
   "cell_type": "code",
   "execution_count": 30,
   "metadata": {},
   "outputs": [
    {
     "name": "stdout",
     "output_type": "stream",
     "text": [
      "[3, 9, 12]\n"
     ]
    }
   ],
   "source": [
    "L = [ 3, 6, 9, 12, 3, 30, 15, 9, 45, 36, 12, 12]\n",
    "DuplicateItems = []\n",
    "UniqueItems = {}\n",
    "for t in L:\n",
    "   if t not in UniqueItems:\n",
    "      UniqueItems[t] = 1\n",
    "   else:\n",
    "      if UniqueItems[t] == 1:\n",
    "         DuplicateItems.append(t)\n",
    "      UniqueItems[t] += 1\n",
    "print(duplicateItems)"
   ]
  },
  {
   "cell_type": "code",
   "execution_count": 39,
   "metadata": {},
   "outputs": [
    {
     "name": "stdout",
     "output_type": "stream",
     "text": [
      "Enter Value7\n",
      "Key is not present in the dictionary\n"
     ]
    }
   ],
   "source": [
    "d = {1: 10, 2: 20, 3: 30, 4: 40, 5: 50, 6: 60}\n",
    "Value=input(\"Enter Value\")\n",
    "for Num in d:  \n",
    "    if Num==Value:\n",
    "        print('Key is present in the dictionary')\n",
    "    else:\n",
    "        print('Key is not present in the dictionary')\n",
    "    break\n"
   ]
  },
  {
   "cell_type": "code",
   "execution_count": null,
   "metadata": {},
   "outputs": [],
   "source": []
  }
 ],
 "metadata": {
  "kernelspec": {
   "display_name": "Python 3",
   "language": "python",
   "name": "python3"
  },
  "language_info": {
   "codemirror_mode": {
    "name": "ipython",
    "version": 3
   },
   "file_extension": ".py",
   "mimetype": "text/x-python",
   "name": "python",
   "nbconvert_exporter": "python",
   "pygments_lexer": "ipython3",
   "version": "3.7.4"
  }
 },
 "nbformat": 4,
 "nbformat_minor": 2
}
