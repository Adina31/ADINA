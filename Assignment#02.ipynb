{
 "cells": [
  {
   "cell_type": "code",
   "execution_count": 1,
   "metadata": {},
   "outputs": [
    {
     "name": "stdout",
     "output_type": "stream",
     "text": [
      "Enter Phy Marks186\n",
      "Enter Stats Marks142\n",
      "Enter Maths Marks162\n",
      "Enter Urdu Marks57\n",
      "Enter Eng Marks65\n",
      "612\n"
     ]
    }
   ],
   "source": [
    "Physics=int(input(\"Enter Phy Marks\"))\n",
    "Statistics=int(input(\"Enter Stats Marks\"))\n",
    "Mathematics=int(input(\"Enter Maths Marks\"))\n",
    "Urdu=int(input(\"Enter Urdu Marks\"))\n",
    "English=int(input(\"Enter Eng Marks\"))\n",
    "Total=Physics+Statistics+Mathematics+Urdu+English\n",
    "Grand=800\n",
    "print(Total)\n"
   ]
  },
  {
   "cell_type": "code",
   "execution_count": 2,
   "metadata": {},
   "outputs": [
    {
     "name": "stdout",
     "output_type": "stream",
     "text": [
      "76.5\n"
     ]
    }
   ],
   "source": [
    "Percentage=(Total/Grand)*100\n",
    "print(Percentage)"
   ]
  },
  {
   "cell_type": "code",
   "execution_count": 3,
   "metadata": {},
   "outputs": [
    {
     "name": "stdout",
     "output_type": "stream",
     "text": [
      "A\n"
     ]
    }
   ],
   "source": [
    "if Percentage >80:\n",
    "    print(\"A+\")\n",
    "elif Percentage >=70 and Percentage <80:\n",
    "    print(\"A\")\n",
    "elif Percentage >=60 and Percentage <70:\n",
    "    print(\"B\")\n",
    "elif Percentage >=50 and Percentage <60:\n",
    "    print(\"C\")\n",
    "elif Percentage >=40 and percentage <50:\n",
    "    print(\"Fail\")\n"
   ]
  },
  {
   "cell_type": "code",
   "execution_count": 4,
   "metadata": {},
   "outputs": [
    {
     "name": "stdout",
     "output_type": "stream",
     "text": [
      "Enter Your Value:56\n",
      "The Value is Even\n"
     ]
    }
   ],
   "source": [
    "X=int(input(\"Enter Your Value:\"))\n",
    "Modulus= X % 2\n",
    "if Modulus > 0:\n",
    "    print(\"The Value is Odd\")\n",
    "else:\n",
    "    print(\"The Value is Even\")\n"
   ]
  },
  {
   "cell_type": "code",
   "execution_count": 5,
   "metadata": {},
   "outputs": [
    {
     "name": "stdout",
     "output_type": "stream",
     "text": [
      "[1, 'b', 3, 'd', 'h', 'n', 78, 'l', 'm', 9, 23, 'o', 'p', 2, 9]\n"
     ]
    }
   ],
   "source": [
    "Mixed_Observation=[1,\"b\",3,\"d\",\"h\",\"n\",78,\"l\",\"m\",9,23,\"o\",\"p\",2,9]\n",
    "print(Mixed_Observation)"
   ]
  },
  {
   "cell_type": "code",
   "execution_count": 9,
   "metadata": {},
   "outputs": [
    {
     "name": "stdout",
     "output_type": "stream",
     "text": [
      "15\n"
     ]
    }
   ],
   "source": [
    "n= len(Mixed_Observation)\n",
    "print(n)"
   ]
  },
  {
   "cell_type": "code",
   "execution_count": 6,
   "metadata": {},
   "outputs": [
    {
     "name": "stdout",
     "output_type": "stream",
     "text": [
      "125\n"
     ]
    }
   ],
   "source": [
    "M_O1=Mixed_Observation[0]+Mixed_Observation[2]+Mixed_Observation[6]+Mixed_Observation[9]+Mixed_Observation[10]+Mixed_Observation[13]+Mixed_Observation[14]\n",
    "print(M_O1)"
   ]
  },
  {
   "cell_type": "code",
   "execution_count": 7,
   "metadata": {},
   "outputs": [
    {
     "name": "stdout",
     "output_type": "stream",
     "text": [
      "78\n"
     ]
    }
   ],
   "source": [
    "Larger_Number=Mixed_Observation[6]\n",
    "print(Larger_Number)\n"
   ]
  },
  {
   "cell_type": "code",
   "execution_count": 8,
   "metadata": {},
   "outputs": [
    {
     "name": "stdout",
     "output_type": "stream",
     "text": [
      "[0, 1, 2, 3, 1, 3, 4]\n"
     ]
    }
   ],
   "source": [
    "L=[0,1,2,3,1,3,4,5,6,7,8,10,19,28,33,34,40,41,66]\n",
    "L2=L[:7]\n",
    "print(L2)"
   ]
  },
  {
   "cell_type": "code",
   "execution_count": null,
   "metadata": {},
   "outputs": [],
   "source": []
  }
 ],
 "metadata": {
  "kernelspec": {
   "display_name": "Python 3",
   "language": "python",
   "name": "python3"
  },
  "language_info": {
   "codemirror_mode": {
    "name": "ipython",
    "version": 3
   },
   "file_extension": ".py",
   "mimetype": "text/x-python",
   "name": "python",
   "nbconvert_exporter": "python",
   "pygments_lexer": "ipython3",
   "version": "3.7.4"
  }
 },
 "nbformat": 4,
 "nbformat_minor": 2
}
